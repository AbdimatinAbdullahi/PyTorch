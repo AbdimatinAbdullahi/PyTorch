{
 "cells": [
  {
   "cell_type": "code",
   "execution_count": 19,
   "metadata": {},
   "outputs": [],
   "source": [
    "import PIL as Image\n",
    "import torch.nn as nn\n",
    "from torchvision import datasets, transforms\n",
    "from torch.utils.data import DataLoader, Dataset"
   ]
  },
  {
   "cell_type": "code",
   "execution_count": 40,
   "metadata": {},
   "outputs": [],
   "source": [
    "transform = transforms.Compose([\n",
    "    transforms.ToTensor(),\n",
    "    transforms.Normalize((0.5), (0.5, ))\n",
    "])\n",
    "\n",
    "train = datasets.CIFAR10(root=\"./data\", train=True, transform=transform)\n",
    "test = datasets.CIFAR10(root=\"./data\", train=False, transform=transform)"
   ]
  },
  {
   "cell_type": "code",
   "execution_count": 41,
   "metadata": {},
   "outputs": [],
   "source": [
    "train_data = DataLoader(dataset=train, batch_size=32, shuffle=True)\n",
    "test_data = DataLoader(dataset=test, batch_size=32, shuffle=True)"
   ]
  },
  {
   "cell_type": "code",
   "execution_count": null,
   "metadata": {},
   "outputs": [],
   "source": []
  },
  {
   "cell_type": "code",
   "execution_count": 2,
   "metadata": {},
   "outputs": [],
   "source": [
    "# Building a simple classifier to classify the cifr10 data\n",
    "# CIFR10 data has the 10 classes\n",
    "import torch\n",
    "import torch.nn as nn\n",
    "import torch.optim as optim\n"
   ]
  },
  {
   "cell_type": "code",
   "execution_count": null,
   "metadata": {},
   "outputs": [],
   "source": [
    "class CIFR10Classifier(nn.Module):\n",
    "    def __init__(self):\n",
    "        super(CIFR10Classifier, self).__init__()\n",
    "        self.conv1 = nn.Conv2d(3, 32, kernel_size=3, padding=1, stride=2)\n",
    "        self.conv2 = nn.Conv2d(32, 64, kernel_size=3, padding=1, stride=2)\n",
    "        self.pool = nn.MaxPool2d(2, 2)\n",
    "        self.fc1 = None # Place holder for fully connected layer 1\n",
    "        self.fc2 = nn.Linear(256, 10)\n",
    "    \n",
    "    def forward(self, inputs):\n",
    "        x = self.pool(torch.relu(self.conv1(inputs)))\n",
    "        x = self.pool(torch.relu(self.conv2(x)))\n",
    "\n",
    "        if self.fc1 is None:\n",
    "            flattened_shape = x.view(x.size(0), -1).size(1)\n",
    "            self.fc1 = nn.Linear(flattened_shape, 256).to(x.device)\n",
    "        \n",
    "        x = x.view(x.size(0), -1)\n",
    "        x = torch.relu(self.fc1(x))\n",
    "        x = self.fc2(x)\n",
    "        return x\n"
   ]
  },
  {
   "cell_type": "code",
   "execution_count": 112,
   "metadata": {},
   "outputs": [
    {
     "name": "stdout",
     "output_type": "stream",
     "text": [
      "cpu\n"
     ]
    }
   ],
   "source": [
    "model = CIFR10Classifier()\n",
    "optimizer = optim.Adam(model.parameters(), lr=0.01)\n",
    "criterion = nn.CrossEntropyLoss()\n",
    "device = torch.device(\"cuda\" if torch.cuda.is_available() else \"cpu\")\n",
    "print(device)"
   ]
  },
  {
   "cell_type": "code",
   "execution_count": 60,
   "metadata": {},
   "outputs": [],
   "source": [
    "def train_model(model, train, optimizer, criterion, epochs=10):\n",
    "    model.train()\n",
    "    for epoch in range(epochs):\n",
    "        running_loss= 0.0\n",
    "        for inputs, label in train:\n",
    "            inputs, label = inputs.to(device), label.to(device)\n",
    "            y_pred = model(inputs)\n",
    "            loss = criterion(y_pred, label)\n",
    "            optimizer.zero_grad()\n",
    "            loss.backward()\n",
    "            optimizer.step()\n",
    "            running_loss += loss.item()\n",
    "        print(f\"Epoch {epoch + 1}/{epochs}, Loss: {running_loss / len(train):.4f}\")\n"
   ]
  },
  {
   "cell_type": "code",
   "execution_count": 61,
   "metadata": {},
   "outputs": [
    {
     "name": "stdout",
     "output_type": "stream",
     "text": [
      "Epoch 1/10, Loss: 1.3688\n",
      "Epoch 2/10, Loss: 1.3320\n",
      "Epoch 3/10, Loss: 1.3037\n",
      "Epoch 4/10, Loss: 1.2883\n",
      "Epoch 5/10, Loss: 1.2764\n",
      "Epoch 6/10, Loss: 1.2639\n",
      "Epoch 7/10, Loss: 1.2589\n",
      "Epoch 8/10, Loss: 1.2491\n",
      "Epoch 9/10, Loss: 1.2472\n",
      "Epoch 10/10, Loss: 1.2498\n"
     ]
    }
   ],
   "source": [
    "train_model(model=model, train=train_data, optimizer=optimizer, criterion=criterion)"
   ]
  },
  {
   "cell_type": "code",
   "execution_count": 62,
   "metadata": {},
   "outputs": [],
   "source": [
    "x =torch.rand(2, 2)"
   ]
  },
  {
   "cell_type": "code",
   "execution_count": 64,
   "metadata": {},
   "outputs": [
    {
     "data": {
      "text/plain": [
       "tensor([[0.8144, 0.7382],\n",
       "        [0.4763, 0.5298]])"
      ]
     },
     "execution_count": 64,
     "metadata": {},
     "output_type": "execute_result"
    }
   ],
   "source": [
    "x"
   ]
  },
  {
   "cell_type": "code",
   "execution_count": 65,
   "metadata": {},
   "outputs": [
    {
     "name": "stdout",
     "output_type": "stream",
     "text": [
      "torch.return_types.max(\n",
      "values=tensor([0.8144, 0.5298]),\n",
      "indices=tensor([0, 1]))\n"
     ]
    }
   ],
   "source": [
    "print(torch.max(x, 1))"
   ]
  },
  {
   "cell_type": "code",
   "execution_count": 110,
   "metadata": {},
   "outputs": [],
   "source": [
    "# Evaluation function\n",
    "\n",
    "def EvalauteModel(model, test, criterion):\n",
    "    model.eval()\n",
    "    correct = 0\n",
    "    total = 0\n",
    "    test_loss = 0.0\n",
    "    iteration = 0\n",
    "    with torch.no_grad():\n",
    "        for inputs, label in test:\n",
    "            y_pred = model(inputs)\n",
    "            loss = criterion(y_pred, label)\n",
    "            test_loss += loss.item()\n",
    "\n",
    "            # Accuracy Calculation\n",
    "            _, predicted = torch.max(y_pred, 1)\n",
    "            total += label.size(0)\n",
    "            correct += (predicted == label).sum().item()\n",
    "            iteration += 1\n",
    "        accuracy = 100 * correct / total\n",
    "        print(\"Accuracy: \", accuracy)\n",
    "        print(test_loss)"
   ]
  },
  {
   "cell_type": "code",
   "execution_count": 111,
   "metadata": {},
   "outputs": [
    {
     "name": "stdout",
     "output_type": "stream",
     "text": [
      "Accuracy:  53.49\n",
      "412.35067081451416\n"
     ]
    }
   ],
   "source": [
    "EvalauteModel(model=model, test=test_data, criterion=criterion)"
   ]
  },
  {
   "cell_type": "code",
   "execution_count": 117,
   "metadata": {},
   "outputs": [],
   "source": [
    "torch.save(model.state_dict(), \"CIFR10Classifier.pth\")"
   ]
  },
  {
   "cell_type": "code",
   "execution_count": 118,
   "metadata": {},
   "outputs": [
    {
     "name": "stderr",
     "output_type": "stream",
     "text": [
      "C:\\Users\\abdim\\AppData\\Local\\Temp\\ipykernel_10896\\2518346339.py:2: FutureWarning: You are using `torch.load` with `weights_only=False` (the current default value), which uses the default pickle module implicitly. It is possible to construct malicious pickle data which will execute arbitrary code during unpickling (See https://github.com/pytorch/pytorch/blob/main/SECURITY.md#untrusted-models for more details). In a future release, the default value for `weights_only` will be flipped to `True`. This limits the functions that could be executed during unpickling. Arbitrary objects will no longer be allowed to be loaded via this mode unless they are explicitly allowlisted by the user via `torch.serialization.add_safe_globals`. We recommend you start setting `weights_only=True` for any use case where you don't have full control of the loaded file. Please open an issue on GitHub for any issues related to this experimental feature.\n",
      "  model.load_state_dict(torch.load(\"CIFR10Classifier.pth\"))\n"
     ]
    },
    {
     "data": {
      "text/plain": [
       "<All keys matched successfully>"
      ]
     },
     "execution_count": 118,
     "metadata": {},
     "output_type": "execute_result"
    }
   ],
   "source": [
    "model = CIFR10Classifier()\n",
    "model.load_state_dict(torch.load(\"CIFR10Classifier.pth\"))"
   ]
  },
  {
   "cell_type": "code",
   "execution_count": 121,
   "metadata": {},
   "outputs": [
    {
     "name": "stdout",
     "output_type": "stream",
     "text": [
      "==========================================================================================\n",
      "Layer (type:depth-idx)                   Output Shape              Param #\n",
      "==========================================================================================\n",
      "├─Conv2d: 1-1                            [-1, 32, 16, 16]          896\n",
      "├─MaxPool2d: 1-2                         [-1, 32, 8, 8]            --\n",
      "├─Conv2d: 1-3                            [-1, 64, 4, 4]            18,496\n",
      "├─MaxPool2d: 1-4                         [-1, 64, 2, 2]            --\n",
      "├─Linear: 1-5                            [-1, 256]                 65,792\n",
      "├─Linear: 1-6                            [-1, 10]                  2,570\n",
      "==========================================================================================\n",
      "Total params: 87,754\n",
      "Trainable params: 87,754\n",
      "Non-trainable params: 0\n",
      "Total mult-adds (M): 0.58\n",
      "==========================================================================================\n",
      "Input size (MB): 0.01\n",
      "Forward/backward pass size (MB): 0.07\n",
      "Params size (MB): 0.33\n",
      "Estimated Total Size (MB): 0.42\n",
      "==========================================================================================\n"
     ]
    },
    {
     "data": {
      "text/plain": [
       "==========================================================================================\n",
       "Layer (type:depth-idx)                   Output Shape              Param #\n",
       "==========================================================================================\n",
       "├─Conv2d: 1-1                            [-1, 32, 16, 16]          896\n",
       "├─MaxPool2d: 1-2                         [-1, 32, 8, 8]            --\n",
       "├─Conv2d: 1-3                            [-1, 64, 4, 4]            18,496\n",
       "├─MaxPool2d: 1-4                         [-1, 64, 2, 2]            --\n",
       "├─Linear: 1-5                            [-1, 256]                 65,792\n",
       "├─Linear: 1-6                            [-1, 10]                  2,570\n",
       "==========================================================================================\n",
       "Total params: 87,754\n",
       "Trainable params: 87,754\n",
       "Non-trainable params: 0\n",
       "Total mult-adds (M): 0.58\n",
       "==========================================================================================\n",
       "Input size (MB): 0.01\n",
       "Forward/backward pass size (MB): 0.07\n",
       "Params size (MB): 0.33\n",
       "Estimated Total Size (MB): 0.42\n",
       "=========================================================================================="
      ]
     },
     "execution_count": 121,
     "metadata": {},
     "output_type": "execute_result"
    }
   ],
   "source": [
    "from torchsummary import summary\n",
    "\n",
    "summary(model, input_data=(3, 32, 32))"
   ]
  },
  {
   "cell_type": "code",
   "execution_count": 123,
   "metadata": {},
   "outputs": [],
   "source": [
    "from torchviz import make_dot\n",
    "dummy_input_batch = torch.randn(8, 3, 32, 32)"
   ]
  },
  {
   "cell_type": "code",
   "execution_count": null,
   "metadata": {},
   "outputs": [],
   "source": [
    "y = model(dummy_input_batch)\n",
    " \n",
    "# make_dot(y, params=dict(model.named_parameters())).render(\"model_graph\", format=\"png\")\n",
    "\n",
    "make_dot(y, params=dict(model.named_parameters())).render(\"model_graph\", format=\"png\")"
   ]
  },
  {
   "cell_type": "code",
   "execution_count": 130,
   "metadata": {},
   "outputs": [],
   "source": [
    "input_data=torch.rand(64, 3, 32, 32)"
   ]
  },
  {
   "cell_type": "code",
   "execution_count": 131,
   "metadata": {},
   "outputs": [
    {
     "name": "stdout",
     "output_type": "stream",
     "text": [
      "2\n"
     ]
    }
   ],
   "source": [
    "z = input_data.view(x.size(0), -1).size(0)\n",
    "print(z)"
   ]
  }
 ],
 "metadata": {
  "kernelspec": {
   "display_name": "Python 3",
   "language": "python",
   "name": "python3"
  },
  "language_info": {
   "codemirror_mode": {
    "name": "ipython",
    "version": 3
   },
   "file_extension": ".py",
   "mimetype": "text/x-python",
   "name": "python",
   "nbconvert_exporter": "python",
   "pygments_lexer": "ipython3",
   "version": "3.12.5"
  }
 },
 "nbformat": 4,
 "nbformat_minor": 2
}
