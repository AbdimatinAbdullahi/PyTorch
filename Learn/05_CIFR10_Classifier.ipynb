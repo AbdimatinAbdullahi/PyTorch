{
 "cells": [
  {
   "cell_type": "code",
   "execution_count": 19,
   "metadata": {},
   "outputs": [],
   "source": [
    "import PIL as Image\n",
    "import torch.nn as nn\n",
    "from torchvision import datasets, transforms\n",
    "from torch.utils.data import DataLoader, Dataset"
   ]
  },
  {
   "cell_type": "code",
   "execution_count": 40,
   "metadata": {},
   "outputs": [],
   "source": [
    "transform = transforms.Compose([\n",
    "    transforms.ToTensor(),\n",
    "    transforms.Normalize((0.5), (0.5, ))\n",
    "])\n",
    "\n",
    "train = datasets.CIFAR10(root=\"./data\", train=True, transform=transform)\n",
    "test = datasets.CIFAR10(root=\"./data\", train=False, transform=transform)"
   ]
  },
  {
   "cell_type": "code",
   "execution_count": 41,
   "metadata": {},
   "outputs": [],
   "source": [
    "train_data = DataLoader(dataset=train, batch_size=32, shuffle=True)\n",
    "test_data = DataLoader(dataset=test, batch_size=32, shuffle=True)"
   ]
  },
  {
   "cell_type": "code",
   "execution_count": null,
   "metadata": {},
   "outputs": [],
   "source": []
  },
  {
   "cell_type": "code",
   "execution_count": 2,
   "metadata": {},
   "outputs": [],
   "source": [
    "# Building a simple classifier to classify the cifr10 data\n",
    "# CIFR10 data has the 10 classes\n",
    "import torch\n",
    "import torch.nn as nn\n",
    "import torch.optim as optim\n"
   ]
  },
  {
   "cell_type": "code",
   "execution_count": 48,
   "metadata": {},
   "outputs": [],
   "source": [
    "class CIFR10Classifier(nn.Module):\n",
    "    def __init__(self):\n",
    "        super(CIFR10Classifier, self).__init__()\n",
    "        self.conv1 = nn.Conv2d(3, 32, kernel_size=3, padding=1, stride=2)\n",
    "        self.conv2 = nn.Conv2d(32, 64, kernel_size=3, padding=1, stride=2)\n",
    "        self.pool = nn.MaxPool2d(2, 2)\n",
    "        self.fc1 = None # Place holder for fully connected layer 1\n",
    "        self.fc2 = nn.Linear(256, 10)\n",
    "    \n",
    "    def forward(self, inputs):\n",
    "        x = self.pool(torch.relu(self.conv1(inputs)))\n",
    "        x = self.pool(torch.relu(self.conv2(x)))\n",
    "\n",
    "        if self.fc1 is None:\n",
    "            flattened_shape = x.view(x.size(0), -1).size(1)\n",
    "            self.fc1 = nn.Linear(flattened_shape, 256).to(x.device)\n",
    "        \n",
    "        x = x.view(x.size(0), -1)\n",
    "        x = torch.relu(self.fc1(x))\n",
    "        x = self.fc2(x)\n",
    "        return x\n"
   ]
  },
  {
   "cell_type": "code",
   "execution_count": 49,
   "metadata": {},
   "outputs": [],
   "source": [
    "model = CIFR10Classifier()\n",
    "optimizer = optim.Adam(model.parameters(), lr=0.01)\n",
    "criterion = nn.CrossEntropyLoss()\n",
    "device = torch.device(\"cuda\" if torch.cuda.is_available() else \"cpu\")"
   ]
  },
  {
   "cell_type": "code",
   "execution_count": 60,
   "metadata": {},
   "outputs": [],
   "source": [
    "def train_model(model, train, optimizer, criterion, epochs=10):\n",
    "    model.train()\n",
    "    for epoch in range(epochs):\n",
    "        running_loss= 0.0\n",
    "        for inputs, label in train:\n",
    "            inputs, label = inputs.to(device), label.to(device)\n",
    "            y_pred = model(inputs)\n",
    "            loss = criterion(y_pred, label)\n",
    "            optimizer.zero_grad()\n",
    "            loss.backward()\n",
    "            optimizer.step()\n",
    "            running_loss += loss.item()\n",
    "        print(f\"Epoch {epoch + 1}/{epochs}, Loss: {running_loss / len(train):.4f}\")\n"
   ]
  },
  {
   "cell_type": "code",
   "execution_count": 61,
   "metadata": {},
   "outputs": [
    {
     "name": "stdout",
     "output_type": "stream",
     "text": [
      "Epoch 1/10, Loss: 1.3688\n",
      "Epoch 2/10, Loss: 1.3320\n",
      "Epoch 3/10, Loss: 1.3037\n",
      "Epoch 4/10, Loss: 1.2883\n",
      "Epoch 5/10, Loss: 1.2764\n",
      "Epoch 6/10, Loss: 1.2639\n",
      "Epoch 7/10, Loss: 1.2589\n",
      "Epoch 8/10, Loss: 1.2491\n",
      "Epoch 9/10, Loss: 1.2472\n",
      "Epoch 10/10, Loss: 1.2498\n"
     ]
    }
   ],
   "source": [
    "train_model(model=model, train=train_data, optimizer=optimizer, criterion=criterion)"
   ]
  },
  {
   "cell_type": "code",
   "execution_count": 62,
   "metadata": {},
   "outputs": [],
   "source": [
    "x =torch.rand(2, 2)"
   ]
  },
  {
   "cell_type": "code",
   "execution_count": 64,
   "metadata": {},
   "outputs": [
    {
     "data": {
      "text/plain": [
       "tensor([[0.8144, 0.7382],\n",
       "        [0.4763, 0.5298]])"
      ]
     },
     "execution_count": 64,
     "metadata": {},
     "output_type": "execute_result"
    }
   ],
   "source": [
    "x"
   ]
  },
  {
   "cell_type": "code",
   "execution_count": 65,
   "metadata": {},
   "outputs": [
    {
     "name": "stdout",
     "output_type": "stream",
     "text": [
      "torch.return_types.max(\n",
      "values=tensor([0.8144, 0.5298]),\n",
      "indices=tensor([0, 1]))\n"
     ]
    }
   ],
   "source": [
    "print(torch.max(x, 1))"
   ]
  },
  {
   "cell_type": "code",
   "execution_count": null,
   "metadata": {},
   "outputs": [],
   "source": [
    "# Evaluation function\n",
    "\n",
    "def EvalauteModel(model, test, criterion):\n",
    "    model.eval()\n",
    "    correct = 0\n",
    "    total = 0\n",
    "    test_loss = 0.0\n",
    "    iteration = 0\n",
    "    with torch.no_grad():\n",
    "        for inputs, label in test:\n",
    "            y_pred = model(inputs)\n",
    "            if iteration % 1000 == 0:\n",
    "                print(y_pred)\n",
    "            loss = criterion(y_pred, label)\n",
    "            test_loss += loss.item()\n",
    "\n",
    "            # Accuracy Calculation\n",
    "            _, predicted = torch.max(y_pred, 1)\n",
    "            total += label.size(0)\n",
    "            correct += (predicted == label).sum().item()\n",
    "            iteration += 1\n",
    "        accuracy = 100 * correct / total\n",
    "        print(\"Accuracy: \", accuracy)"
   ]
  },
  {
   "cell_type": "code",
   "execution_count": 80,
   "metadata": {},
   "outputs": [
    {
     "name": "stdout",
     "output_type": "stream",
     "text": [
      "Accuracy:  53.49\n"
     ]
    }
   ],
   "source": [
    "EvalauteModel(model=model, test=test_data, criterion=criterion)"
   ]
  },
  {
   "cell_type": "code",
   "execution_count": null,
   "metadata": {},
   "outputs": [],
   "source": []
  },
  {
   "cell_type": "code",
   "execution_count": null,
   "metadata": {},
   "outputs": [],
   "source": [
    "epochs = 10\n",
    "\n",
    "for i in range(epochs):\n",
    "    model.train()\n",
    "    y_pred = model(train)\n",
    "    optimizer.zero_grad()\n",
    "    loss = criterion(y_pred, labe)"
   ]
  }
 ],
 "metadata": {
  "kernelspec": {
   "display_name": "Python 3",
   "language": "python",
   "name": "python3"
  },
  "language_info": {
   "codemirror_mode": {
    "name": "ipython",
    "version": 3
   },
   "file_extension": ".py",
   "mimetype": "text/x-python",
   "name": "python",
   "nbconvert_exporter": "python",
   "pygments_lexer": "ipython3",
   "version": "3.12.5"
  }
 },
 "nbformat": 4,
 "nbformat_minor": 2
}
