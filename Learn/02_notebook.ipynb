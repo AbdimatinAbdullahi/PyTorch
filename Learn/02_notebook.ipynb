{
 "cells": [
  {
   "cell_type": "markdown",
   "metadata": {},
   "source": [
    "#### What is Automatic Differentiation?\n",
    "- Automatic Differentiation (Autograd) is a feature of PyTorch that automatically computes the gradients (derivatives) of tensors during the backpropagation process. It tracks operations on tensors with requires_grad=True to construct a computational graph, which allows for easy gradient computation."
   ]
  },
  {
   "cell_type": "code",
   "execution_count": 1,
   "metadata": {},
   "outputs": [
    {
     "name": "stdout",
     "output_type": "stream",
     "text": [
      "x: 2.0\n",
      "y: 11.0\n",
      "dx: 7.0\n"
     ]
    }
   ],
   "source": [
    "import torch\n",
    "\n",
    "# Create a tensor with requires_grad=True\n",
    "x = torch.tensor(2.0, requires_grad=True)\n",
    "\n",
    "# Define a function using x\n",
    "y = x**2 + 3*x + 1\n",
    "\n",
    "# Compute the gradients\n",
    "y.backward()  # Backpropagate\n",
    "\n",
    "# The gradient of y with respect to x is dy/dx = 2x + 3\n",
    "print(f\"x: {x.item()}\")   # The value of x\n",
    "print(f\"y: {y.item()}\")   # The value of y\n",
    "print(f\"dx: {x.grad.item()}\")  # Gradient of y with respect to x\n"
   ]
  },
  {
   "cell_type": "code",
   "execution_count": 3,
   "metadata": {},
   "outputs": [
    {
     "name": "stdout",
     "output_type": "stream",
     "text": [
      "tensor(48.)\n"
     ]
    }
   ],
   "source": [
    "x = torch.tensor(2.0, requires_grad=True)\n",
    "\n",
    "y = 2*x**3 + 5*x**2 + 4*x\n",
    "\n",
    "\n",
    "y.backward()\n",
    "\n",
    "print(x.grad) # Outputs the value of: 6x**2 + 10*x + 4"
   ]
  }
 ],
 "metadata": {
  "kernelspec": {
   "display_name": "Python 3",
   "language": "python",
   "name": "python3"
  },
  "language_info": {
   "codemirror_mode": {
    "name": "ipython",
    "version": 3
   },
   "file_extension": ".py",
   "mimetype": "text/x-python",
   "name": "python",
   "nbconvert_exporter": "python",
   "pygments_lexer": "ipython3",
   "version": "3.12.5"
  }
 },
 "nbformat": 4,
 "nbformat_minor": 2
}
