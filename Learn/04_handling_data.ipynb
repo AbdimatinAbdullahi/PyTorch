{
 "cells": [
  {
   "cell_type": "code",
   "execution_count": 5,
   "metadata": {},
   "outputs": [],
   "source": [
    "import torch\n",
    "from torchvision import datasets, transforms\n",
    "from torch.utils.data import DataLoader, Dataset"
   ]
  },
  {
   "cell_type": "code",
   "execution_count": 2,
   "metadata": {},
   "outputs": [],
   "source": [
    "transform = transforms.Compose([\n",
    "    transforms.ToTensor(),\n",
    "    transforms.Normalize((0.5,),(0.5,))\n",
    "])"
   ]
  },
  {
   "cell_type": "code",
   "execution_count": 3,
   "metadata": {},
   "outputs": [
    {
     "name": "stdout",
     "output_type": "stream",
     "text": [
      "Downloading https://www.cs.toronto.edu/~kriz/cifar-10-python.tar.gz to ./data\\cifar-10-python.tar.gz\n"
     ]
    },
    {
     "name": "stderr",
     "output_type": "stream",
     "text": [
      "100%|██████████| 170M/170M [10:50<00:00, 262kB/s]    \n"
     ]
    },
    {
     "name": "stdout",
     "output_type": "stream",
     "text": [
      "Extracting ./data\\cifar-10-python.tar.gz to ./data\n",
      "Files already downloaded and verified\n"
     ]
    }
   ],
   "source": [
    "train_datasets = datasets.CIFAR10(root=\"./data\", train=True, transform=transform, download=True) # train indicates true or false\n",
    "test_datasets = datasets.CIFAR10(root=\"./data\", train=False, transform=transform, download=True) # train indicates true or false"
   ]
  },
  {
   "cell_type": "code",
   "execution_count": 16,
   "metadata": {},
   "outputs": [],
   "source": [
    "# Implement a custom Data Set\n",
    "\n",
    "class ExampleDataSet(Dataset):\n",
    "    def __init__(self, data, labels):\n",
    "        self.data = data\n",
    "        self.labels = labels\n",
    "    def __len__(self):\n",
    "        return len(self.data)\n",
    "    def __getitem__(self, idx):\n",
    "        sample = self.data[idx]\n",
    "        labels = self.labels[idx]\n",
    "        return torch.tensor(sample, dtype=torch.float32), torch.tensor(labels, dtype=torch.long)\n",
    "\n"
   ]
  },
  {
   "cell_type": "code",
   "execution_count": 14,
   "metadata": {},
   "outputs": [],
   "source": [
    "# Lets implement Custom Data Loader for Educational Purpose\n",
    "import random\n",
    "\n",
    "from torch.utils.data.dataloader import _BaseDataLoaderIter\n",
    "class CustomDataLoader(DataLoader):\n",
    "    def __init__(self,dataset, shuffle=False, batch_size=1, num_workers=0):\n",
    "        self.dataset = dataset\n",
    "        self.batch_size = batch_size\n",
    "        self.shuffle=shuffle\n",
    "        self.num_workers = num_workers\n",
    "        self.indices  = list(range(len(dataset)))\n",
    "\n",
    "        if self.shuffle:\n",
    "            self._shuffle_indices()\n",
    "        \n",
    "    def _shuffle_indices(self):\n",
    "        random.shuffle(self.indices)\n",
    "    \n",
    "    # Creating an iterator that yeilds batches\n",
    "    def __iter__(self):\n",
    "        batch = []\n",
    "        for idx in self.indices:\n",
    "            sample, label = self.dataset[idx]\n",
    "            batch.append((sample, label))\n",
    "             # If batch is full you yeild it\n",
    "\n",
    "            if len(batch) == self.batch_size:\n",
    "                yield batch\n",
    "                batch = []\n",
    "        if batch:\n",
    "            yield batch\n",
    "    \n",
    "    def __len__(self):\n",
    "        len = len(self.indices) // self.batch_size"
   ]
  },
  {
   "cell_type": "code",
   "execution_count": 20,
   "metadata": {},
   "outputs": [],
   "source": [
    "data = [[1.0, 2.0], [3.0, 4.0], [5.0, 6.0], [7.0, 8.0], [9.0, 10.0]]\n",
    "labels = [0, 1, 0, 1, 0]\n",
    "\n",
    "daset = ExampleDataSet(data=data, labels=labels)\n",
    "\n",
    "loader = CustomDataLoader(dataset=daset, shuffle=True, batch_size=2, num_workers=1)"
   ]
  },
  {
   "cell_type": "code",
   "execution_count": 21,
   "metadata": {},
   "outputs": [
    {
     "name": "stdout",
     "output_type": "stream",
     "text": [
      "[(tensor([1., 2.]), tensor(0)), (tensor([5., 6.]), tensor(0))]\n",
      "[(tensor([3., 4.]), tensor(1)), (tensor([7., 8.]), tensor(1))]\n",
      "[(tensor([ 9., 10.]), tensor(0))]\n"
     ]
    }
   ],
   "source": [
    "for batch in loader:\n",
    "    print(batch)"
   ]
  },
  {
   "cell_type": "code",
   "execution_count": null,
   "metadata": {},
   "outputs": [],
   "source": []
  }
 ],
 "metadata": {
  "kernelspec": {
   "display_name": "Python 3",
   "language": "python",
   "name": "python3"
  },
  "language_info": {
   "codemirror_mode": {
    "name": "ipython",
    "version": 3
   },
   "file_extension": ".py",
   "mimetype": "text/x-python",
   "name": "python",
   "nbconvert_exporter": "python",
   "pygments_lexer": "ipython3",
   "version": "3.12.5"
  }
 },
 "nbformat": 4,
 "nbformat_minor": 2
}
